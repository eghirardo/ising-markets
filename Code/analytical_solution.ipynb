{
 "cells": [
  {
   "cell_type": "code",
   "execution_count": 1,
   "id": "490ebf60",
   "metadata": {},
   "outputs": [],
   "source": [
    "from sympy import symbols\n",
    "import sympy\n",
    "from sympy import Heaviside, DiracDelta\n",
    "from ipywidgets import interact, FloatSlider\n",
    "import numpy as np\n",
    "import matplotlib.pyplot as plt\n",
    "from matplotlib.pyplot import figure"
   ]
  },
  {
   "cell_type": "code",
   "execution_count": 3,
   "id": "6cc4d110",
   "metadata": {},
   "outputs": [],
   "source": [
    "alpha, beta, J, m = symbols('alpha beta J m')"
   ]
  },
  {
   "cell_type": "code",
   "execution_count": 4,
   "id": "7d52153b",
   "metadata": {},
   "outputs": [],
   "source": [
    "phi = beta * J * m**2 - beta*alpha*(m**2)*2*(Heaviside(m)) - (1+m)/2 * sympy.log((1 + m)/2) - (1-m)/2 * sympy.log((1 - m)/2)"
   ]
  },
  {
   "cell_type": "code",
   "execution_count": 5,
   "id": "7deb0641",
   "metadata": {},
   "outputs": [
    {
     "data": {
      "text/latex": [
       "$\\displaystyle 2 J \\beta m - 2 \\alpha \\beta m^{2} \\delta\\left(m\\right) - 4 \\alpha \\beta m \\theta\\left(m\\right) + \\frac{\\log{\\left(1 - m \\right)}}{2} - \\frac{\\log{\\left(m + 1 \\right)}}{2}$"
      ],
      "text/plain": [
       "2*J*beta*m - 2*alpha*beta*m**2*DiracDelta(m) - 4*alpha*beta*m*Heaviside(m) + log(1 - m)/2 - log(m + 1)/2"
      ]
     },
     "execution_count": 5,
     "metadata": {},
     "output_type": "execute_result"
    }
   ],
   "source": [
    "phi_diff = sympy.diff(phi, m)\n",
    "phi_diff = sympy.simplify(phi_diff)\n",
    "phi_diff"
   ]
  },
  {
   "cell_type": "code",
   "execution_count": null,
   "id": "01b1f350",
   "metadata": {},
   "outputs": [
    {
     "data": {
      "text/latex": [
       "$\\displaystyle 2 J \\beta m - 2 \\alpha \\beta m^{2} \\delta\\left(m\\right) - 4 \\alpha \\beta m \\theta\\left(m\\right) - \\operatorname{atanh}{\\left(m \\right)}$"
      ],
      "text/plain": [
       "2*J*beta*m - 2*alpha*beta*m**2*DiracDelta(m) - 4*alpha*beta*m*Heaviside(m) - atanh(m)"
      ]
     },
     "execution_count": 7,
     "metadata": {},
     "output_type": "execute_result"
    }
   ],
   "source": [
    "# we recognize the arctanh and substitute it\n",
    "\n",
    "phi_diff = 2*J*beta*m - 2*alpha*beta*m**2*DiracDelta(m) - 4*alpha*beta*m*Heaviside(m) -sympy.atanh(m)\n",
    "phi_diff = sympy.simplify(phi_diff)\n",
    "phi_diff"
   ]
  },
  {
   "cell_type": "code",
   "execution_count": 8,
   "id": "23b80fd8",
   "metadata": {},
   "outputs": [],
   "source": [
    "lhs = sympy.tanh(2*J*beta*m - 2*alpha*beta*m**2*DiracDelta(m) - 4*alpha*beta*m*Heaviside(m))\n",
    "rhs = m"
   ]
  },
  {
   "cell_type": "code",
   "execution_count": 9,
   "id": "287252ef",
   "metadata": {},
   "outputs": [
    {
     "data": {
      "application/vnd.jupyter.widget-view+json": {
       "model_id": "e3a7be9ab6084149b83c3876b7f0b214",
       "version_major": 2,
       "version_minor": 0
      },
      "text/plain": [
       "interactive(children=(FloatSlider(value=1.0, description='alpha_value', max=5.0, min=-5.0), FloatSlider(value=…"
      ]
     },
     "metadata": {},
     "output_type": "display_data"
    },
    {
     "data": {
      "text/plain": [
       "<function __main__.plot_lhs_rhs(alpha_value, beta_value, J_value)>"
      ]
     },
     "execution_count": 9,
     "metadata": {},
     "output_type": "execute_result"
    }
   ],
   "source": [
    "def plot_lhs_rhs(alpha_value, beta_value, J_value):\n",
    "    sympy.plot(lhs.subs([(beta, beta_value), (alpha, alpha_value), (J, J_value)]),\n",
    "               rhs.subs([(beta, beta_value), (alpha, alpha_value), (J, J_value)]),\n",
    "               show=True,\n",
    "               xlim = (-1.2, 1.2),\n",
    "               ylim = (-1.2, 1.2)\n",
    "               )\n",
    "    \n",
    "interact(plot_lhs_rhs,\n",
    "        alpha_value=FloatSlider(min=-5, max=5, step=0.1, value=1),\n",
    "        beta_value=FloatSlider(min=0, max=10, step=0.1, value=1),\n",
    "        J_value=FloatSlider(min=-5, max=5, step=0.1, value=1)\n",
    "        )"
   ]
  },
  {
   "cell_type": "code",
   "execution_count": null,
   "id": "b2d0ec45",
   "metadata": {},
   "outputs": [
    {
     "data": {
      "application/vnd.jupyter.widget-view+json": {
       "model_id": "7f9d6701fb4c405f95d25f751ed71195",
       "version_major": 2,
       "version_minor": 0
      },
      "text/plain": [
       "interactive(children=(FloatSlider(value=-0.5, description='α:', max=2.0, min=-2.0, step=0.05), FloatSlider(val…"
      ]
     },
     "metadata": {},
     "output_type": "display_data"
    },
    {
     "data": {
      "text/plain": [
       "<function __main__.plot_free_energy(alpha_value, beta_value, J_value)>"
      ]
     },
     "execution_count": 10,
     "metadata": {},
     "output_type": "execute_result"
    }
   ],
   "source": [
    "def plot_free_energy(alpha_value, beta_value, J_value):\n",
    "    sympy.plot(phi.subs([(beta, beta_value), (alpha, alpha_value), (J, J_value)]))\n",
    "\n",
    "interact(plot_free_energy, \n",
    "         alpha_value=FloatSlider(min=-2.0, max=2.0, step=0.05, value=-0.5, description='α:'),\n",
    "         beta_value=FloatSlider(min=0.1, max=5.0, step=0.05, value=2.0, description='β:'),\n",
    "         J_value=FloatSlider(min=0.1, max=2.0, step=0.1, value=1, description='J:')\n",
    "        )"
   ]
  }
 ],
 "metadata": {
  "kernelspec": {
   "display_name": "thesis",
   "language": "python",
   "name": "python3"
  },
  "language_info": {
   "codemirror_mode": {
    "name": "ipython",
    "version": 3
   },
   "file_extension": ".py",
   "mimetype": "text/x-python",
   "name": "python",
   "nbconvert_exporter": "python",
   "pygments_lexer": "ipython3",
   "version": "3.13.1"
  }
 },
 "nbformat": 4,
 "nbformat_minor": 5
}
