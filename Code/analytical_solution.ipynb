{
 "cells": [
  {
   "cell_type": "code",
   "execution_count": 73,
   "id": "490ebf60",
   "metadata": {},
   "outputs": [],
   "source": [
    "from sympy import symbols\n",
    "import sympy\n",
    "from sympy import Heaviside, DiracDelta\n",
    "from ipywidgets import interact, FloatSlider\n",
    "import numpy as np\n",
    "import matplotlib.pyplot as plt\n",
    "from matplotlib.pyplot import figure\n",
    "import seaborn as sns\n",
    "from scipy.optimize import fsolve"
   ]
  },
  {
   "cell_type": "code",
   "execution_count": 74,
   "id": "19ccdc2c",
   "metadata": {},
   "outputs": [],
   "source": [
    "from plotting_utils import *\n",
    "load_plot_style()\n",
    "\n",
    "import os\n",
    "image_path = os.path.join(os.path.dirname(os.path.abspath('')), 'Report', 'figures', 'curieweiss')"
   ]
  },
  {
   "cell_type": "markdown",
   "id": "6292b318",
   "metadata": {},
   "source": [
    "## Curie-Weiss"
   ]
  },
  {
   "cell_type": "markdown",
   "id": "c385b782",
   "metadata": {},
   "source": [
    "### Analysis:"
   ]
  },
  {
   "cell_type": "code",
   "execution_count": 75,
   "id": "34d60a62",
   "metadata": {},
   "outputs": [],
   "source": [
    "beta, J, m, B = symbols('beta J m B')"
   ]
  },
  {
   "cell_type": "code",
   "execution_count": 76,
   "id": "89687a37",
   "metadata": {},
   "outputs": [
    {
     "data": {
      "text/latex": [
       "$\\displaystyle - \\left(\\frac{1}{2} - \\frac{m}{2}\\right) \\log{\\left(\\frac{1}{2} - \\frac{m}{2} \\right)} + \\left(- \\frac{m}{2} - \\frac{1}{2}\\right) \\log{\\left(\\frac{m}{2} + \\frac{1}{2} \\right)}$"
      ],
      "text/plain": [
       "-(1/2 - m/2)*log(1/2 - m/2) + (-m/2 - 1/2)*log(m/2 + 1/2)"
      ]
     },
     "execution_count": 76,
     "metadata": {},
     "output_type": "execute_result"
    }
   ],
   "source": [
    "S = -(1+m)/2 * sympy.ln((1+m)/2) - (1-m)/2 * sympy.ln((1-m)/2)\n",
    "S"
   ]
  },
  {
   "cell_type": "code",
   "execution_count": 77,
   "id": "a22317ba",
   "metadata": {},
   "outputs": [
    {
     "data": {
      "text/latex": [
       "$\\displaystyle B \\beta m + \\frac{J \\beta m^{2}}{2} - \\left(\\frac{1}{2} - \\frac{m}{2}\\right) \\log{\\left(\\frac{1}{2} - \\frac{m}{2} \\right)} + \\left(- \\frac{m}{2} - \\frac{1}{2}\\right) \\log{\\left(\\frac{m}{2} + \\frac{1}{2} \\right)}$"
      ],
      "text/plain": [
       "B*beta*m + J*beta*m**2/2 - (1/2 - m/2)*log(1/2 - m/2) + (-m/2 - 1/2)*log(m/2 + 1/2)"
      ]
     },
     "execution_count": 77,
     "metadata": {},
     "output_type": "execute_result"
    }
   ],
   "source": [
    "phi = sympy.Rational(1, 2) * beta * J * m**2 + beta * B * m + S\n",
    "phi"
   ]
  },
  {
   "cell_type": "markdown",
   "id": "7b569a03",
   "metadata": {},
   "source": [
    "We can visualize $\\phi(m)$ for varying $\\beta$, $B$, and $J$."
   ]
  },
  {
   "cell_type": "code",
   "execution_count": 78,
   "id": "52749614",
   "metadata": {},
   "outputs": [
    {
     "data": {
      "application/vnd.jupyter.widget-view+json": {
       "model_id": "3e8c1efcde3e4bd18c95b62bff1b1906",
       "version_major": 2,
       "version_minor": 0
      },
      "text/plain": [
       "interactive(children=(FloatSlider(value=2.0, description='β:', max=5.0, min=0.1, step=0.05), FloatSlider(value…"
      ]
     },
     "metadata": {},
     "output_type": "display_data"
    },
    {
     "data": {
      "text/plain": [
       "<function __main__.plot_phi(beta_val, J_val, B_val)>"
      ]
     },
     "execution_count": 78,
     "metadata": {},
     "output_type": "execute_result"
    }
   ],
   "source": [
    "def plot_phi(beta_val, J_val, B_val):\n",
    "   beta_val = float(beta_val)\n",
    "   J_val = float(J_val)\n",
    "   B_val = float(B_val)\n",
    "\n",
    "   eps = 1e-10\n",
    "   m_vals = np.linspace(-1+eps, 1-eps, 1000)\n",
    "   lam_phi = sympy.lambdify((beta, J, m, B), phi, 'numpy')\n",
    "   phi_vals = lam_phi(beta_val, J_val, m_vals, B_val)\n",
    "\n",
    "   figure(figsize=(6, 6))\n",
    "   plt.plot(m_vals, phi_vals)\n",
    "   # plt.title(r'$\\phi(m)$')\n",
    "   plt.xlabel('m')\n",
    "   plt.ylabel(r'$\\phi(m)$')\n",
    "   plt.grid()\n",
    "   plt.show()\n",
    "\n",
    "interact(plot_phi,\n",
    "   B_val=FloatSlider(min=-5.0, max=5.0, step=0.05, value=0, description='B:'),\n",
    "   beta_val=FloatSlider(min=0.1, max=5.0, step=0.05, value=2.0, description='β:'),\n",
    "   J_val=FloatSlider(min=0.1, max=2.0, step=0.1, value=1, description='J:')\n",
    ")"
   ]
  },
  {
   "cell_type": "code",
   "execution_count": 79,
   "id": "a836e465",
   "metadata": {},
   "outputs": [],
   "source": [
    "lhs = m\n",
    "rhs = sympy.tanh(beta * J * m + beta * B)"
   ]
  },
  {
   "cell_type": "code",
   "execution_count": 80,
   "id": "01bfaaf2",
   "metadata": {},
   "outputs": [
    {
     "data": {
      "application/vnd.jupyter.widget-view+json": {
       "model_id": "390beda419834472b876c23a829f1c50",
       "version_major": 2,
       "version_minor": 0
      },
      "text/plain": [
       "interactive(children=(FloatSlider(value=-0.5, description='B:', max=5.0, min=-5.0, step=0.05), FloatSlider(val…"
      ]
     },
     "metadata": {},
     "output_type": "display_data"
    },
    {
     "data": {
      "text/plain": [
       "<function __main__.plot_lhs_rhs(B_value, beta_value, J_value)>"
      ]
     },
     "execution_count": 80,
     "metadata": {},
     "output_type": "execute_result"
    }
   ],
   "source": [
    "def plot_lhs_rhs(B_value, beta_value, J_value):\n",
    "    sympy.plot(lhs.subs([(beta, beta_value), (B, B_value), (J, J_value)]),\n",
    "               rhs.subs([(beta, beta_value), (B, B_value), (J, J_value)]),\n",
    "               show=True,\n",
    "               xlim = (-1.2, 1.2),\n",
    "               ylim = (-1.2, 1.2)\n",
    "               )\n",
    "    \n",
    "interact(plot_lhs_rhs,\n",
    "        B_value=FloatSlider(min=-5.0, max=5.0, step=0.05, value=-0.5, description='B:'),\n",
    "         beta_value=FloatSlider(min=0.1, max=5.0, step=0.05, value=2.0, description='β:'),\n",
    "         J_value=FloatSlider(min=0.1, max=2.0, step=0.1, value=1, description='J:')\n",
    ")"
   ]
  },
  {
   "cell_type": "markdown",
   "id": "669349ed",
   "metadata": {},
   "source": [
    "### Plots for the report:"
   ]
  },
  {
   "cell_type": "code",
   "execution_count": 81,
   "id": "7298b12c",
   "metadata": {},
   "outputs": [
    {
     "data": {
      "image/png": "[encoded data removed]",
      "text/plain": [
       "<Figure size 308.661x191.37 with 1 Axes>"
      ]
     },
     "metadata": {},
     "output_type": "display_data"
    }
   ],
   "source": [
    "beta_1 = 0.5\n",
    "beta_2 = 1.0\n",
    "beta_3 = 1.5\n",
    "J_val = 1\n",
    "B_val = 0\n",
    "\n",
    "eps = 1e-10\n",
    "m_vals = np.linspace(-1+eps, 1-eps, 1000)\n",
    "lam_phi = sympy.lambdify((beta, J, m, B), phi, 'numpy')\n",
    "\n",
    "phi_vals_1 = lam_phi(beta_1, J_val, m_vals, B_val)\n",
    "phi_vals_2 = lam_phi(beta_2, J_val, m_vals, B_val)\n",
    "phi_vals_3 = lam_phi(beta_3, J_val, m_vals, B_val)\n",
    "\n",
    "fig, ax = plt.subplots(1, 1, figsize=set_size(fraction=0.49))\n",
    "plt.plot(m_vals, phi_vals_1)\n",
    "plt.plot(m_vals, phi_vals_2)\n",
    "plt.plot(m_vals, phi_vals_3)\n",
    "plt.axvline(x=0, color='k', linestyle='-', alpha=0.3)\n",
    "plt.legend([r'$\\beta=0.5$', r'$\\beta=1.0$', r'$\\beta=1.5$'])\n",
    "plt.xlabel('m')\n",
    "plt.ylabel(r'$\\phi(m)$')\n",
    "plt.grid()\n",
    "plt.savefig(os.path.join(image_path, 'm_phi_B0.pdf'), bbox_inches='tight')\n",
    "plt.show()"
   ]
  },
  {
   "cell_type": "code",
   "execution_count": 82,
   "id": "9cf66c86",
   "metadata": {},
   "outputs": [
    {
     "data": {
      "image/png": "[encoded data removed]",
      "text/plain": [
       "<Figure size 308.661x191.37 with 1 Axes>"
      ]
     },
     "metadata": {},
     "output_type": "display_data"
    }
   ],
   "source": [
    "beta_1 = 0.5\n",
    "beta_2 = 1.0\n",
    "beta_3 = 1.5\n",
    "J_val = 1\n",
    "B_val = 0.1\n",
    "\n",
    "eps = 1e-10\n",
    "m_vals = np.linspace(-1+eps, 1-eps, 1000)\n",
    "lam_phi = sympy.lambdify((beta, J, m, B), phi, 'numpy')\n",
    "\n",
    "phi_vals_1 = lam_phi(beta_1, J_val, m_vals, B_val)\n",
    "phi_vals_2 = lam_phi(beta_2, J_val, m_vals, B_val)\n",
    "phi_vals_3 = lam_phi(beta_3, J_val, m_vals, B_val)\n",
    "\n",
    "\n",
    "fig, ax = plt.subplots(1, 1, figsize=set_size(fraction=0.49))\n",
    "plt.plot(m_vals, phi_vals_1)\n",
    "plt.plot(m_vals, phi_vals_2)\n",
    "plt.plot(m_vals, phi_vals_3)\n",
    "plt.axvline(x=0, color='k', linestyle='-', alpha=0.3)\n",
    "plt.legend([r'$\\beta=0.5$', r'$\\beta=1.0$', r'$\\beta=1.5$'])\n",
    "plt.xlabel('m')\n",
    "plt.ylabel(r'$\\phi(m)$')\n",
    "plt.grid()\n",
    "plt.savefig(os.path.join(image_path, 'm_phi_B01.pdf'), bbox_inches='tight')\n",
    "plt.show()"
   ]
  },
  {
   "cell_type": "code",
   "execution_count": 83,
   "id": "78b59bda",
   "metadata": {},
   "outputs": [
    {
     "data": {
      "image/png": "[encoded data removed]",
      "text/plain": [
       "<Figure size 308.661x191.37 with 1 Axes>"
      ]
     },
     "metadata": {},
     "output_type": "display_data"
    }
   ],
   "source": [
    "beta_1 = 0.5\n",
    "beta_2 = 1.0\n",
    "beta_3 = 1.5\n",
    "J_val = 1\n",
    "B_val = 0\n",
    "\n",
    "eps = 1e-10\n",
    "m_vals = np.linspace(-1+eps, 1-eps, 1000)\n",
    "lam_rhs = sympy.lambdify((beta, J, m, B), rhs, 'numpy')\n",
    "\n",
    "phi_vals_1 = lam_rhs(beta_1, J_val, m_vals, B_val)\n",
    "phi_vals_2 = lam_rhs(beta_2, J_val, m_vals, B_val)\n",
    "phi_vals_3 = lam_rhs(beta_3, J_val, m_vals, B_val)\n",
    "\n",
    "fig, ax = plt.subplots(1, 1, figsize=set_size(fraction=0.49))\n",
    "plt.plot(m_vals, m_vals, color='k', linestyle='--')\n",
    "plt.plot(m_vals, phi_vals_1)\n",
    "plt.plot(m_vals, phi_vals_2)\n",
    "plt.plot(m_vals, phi_vals_3)\n",
    "plt.legend([r'm', r'$\\beta=0.5$', r'$\\beta=1.0$', r'$\\beta=1.5$'])\n",
    "plt.xlabel('m')\n",
    "plt.ylabel(r'$\\phi(m)$')\n",
    "plt.grid()\n",
    "plt.axhline(y=0, color='k', linestyle='-', alpha=0.3)\n",
    "plt.axvline(x=0, color='k', linestyle='-', alpha=0.3)\n",
    "plt.savefig(os.path.join(image_path, 'rhs_lhs.pdf'), bbox_inches='tight')\n",
    "plt.show()"
   ]
  },
  {
   "cell_type": "code",
   "execution_count": 84,
   "id": "da6ad954",
   "metadata": {},
   "outputs": [
    {
     "data": {
      "image/png": "[encoded data removed]",
      "text/plain": [
       "<Figure size 308.661x191.37 with 1 Axes>"
      ]
     },
     "metadata": {},
     "output_type": "display_data"
    }
   ],
   "source": [
    "# Create function to solve the self-consistent equation m = tanh(beta*J*m)\n",
    "def solve_magnetization(beta_val, J_val=1.0):\n",
    "    # Define equation to solve: m - tanh(beta*J*m) = 0\n",
    "    def equation(m):\n",
    "        return m - np.tanh(beta_val * J_val * m)\n",
    "    \n",
    "    # Try different initial guesses to find all solutions\n",
    "    # For beta > critical, we expect 3 solutions (positive, negative, and m=0)\n",
    "    solutions = []\n",
    "    for initial_guess in [0.01, 0.5, -0.5]:\n",
    "        sol = fsolve(equation, initial_guess)\n",
    "        # Only add unique solutions (with some tolerance)\n",
    "        if not any(np.isclose(sol, s, atol=1e-6) for s in solutions):\n",
    "            solutions.append(sol[0])\n",
    "    \n",
    "    return np.array(solutions)\n",
    "\n",
    "# Create range of beta values\n",
    "eps= 1e-10\n",
    "beta_range = np.linspace(0+eps, 2-eps, 1000)\n",
    "J_val = 1.0\n",
    "\n",
    "# Calculate solutions for each beta\n",
    "solutions = []\n",
    "for beta_val in beta_range:\n",
    "    sols = solve_magnetization(beta_val, J_val)\n",
    "    for sol in sols:\n",
    "        solutions.append((beta_val, sol))\n",
    "\n",
    "# Convert to arrays for plotting\n",
    "beta_points, m_points = zip(*solutions)\n",
    "\n",
    "# Plot the results\n",
    "fig, ax = plt.subplots(figsize=set_size(fraction=0.49))\n",
    "ax.scatter(beta_points, m_points, s=2)\n",
    "\n",
    "# Add analytical curve for comparison (for beta > 1 where there's a phase transition)\n",
    "beta_critical = 1.0  # Critical value for J=1\n",
    "\n",
    "# Add labels and legend\n",
    "ax.set_xlabel(r'$\\beta$')\n",
    "ax.set_ylabel(r'$m$')\n",
    "ax.grid(True)\n",
    "ax.axhline(y=0, color='k', linestyle='-', alpha=0.3)\n",
    "ax.axvline(x=beta_critical, color='k', linestyle='--', alpha=0.5, label=r'$\\beta_c = 1.0$')\n",
    "ax.legend()\n",
    "\n",
    "# Save the figure\n",
    "plt.savefig(os.path.join(image_path, 'm_vs_beta.pdf'), bbox_inches='tight')\n",
    "plt.show()"
   ]
  },
  {
   "cell_type": "markdown",
   "id": "510dc742",
   "metadata": {},
   "source": [
    "## Bornholdt"
   ]
  },
  {
   "cell_type": "markdown",
   "id": "25603bdc",
   "metadata": {},
   "source": [
    "### Analysis:"
   ]
  },
  {
   "cell_type": "code",
   "execution_count": 98,
   "id": "6cc4d110",
   "metadata": {},
   "outputs": [],
   "source": [
    "alpha, beta, J, m = symbols('alpha beta J m')"
   ]
  },
  {
   "cell_type": "code",
   "execution_count": 99,
   "id": "7d52153b",
   "metadata": {},
   "outputs": [
    {
     "data": {
      "text/latex": [
       "$\\displaystyle J \\beta m^{2} - \\alpha \\beta m^{2} \\left(2 \\theta\\left(m\\right) - 1\\right) - \\left(\\frac{1}{2} - \\frac{m}{2}\\right) \\log{\\left(\\frac{1}{2} - \\frac{m}{2} \\right)} - \\left(\\frac{m}{2} + \\frac{1}{2}\\right) \\log{\\left(\\frac{m}{2} + \\frac{1}{2} \\right)}$"
      ],
      "text/plain": [
       "J*beta*m**2 - alpha*beta*m**2*(2*Heaviside(m) - 1) - (1/2 - m/2)*log(1/2 - m/2) - (m/2 + 1/2)*log(m/2 + 1/2)"
      ]
     },
     "execution_count": 99,
     "metadata": {},
     "output_type": "execute_result"
    }
   ],
   "source": [
    "phi = beta * J * m**2 - beta*alpha*(m**2)*(2*Heaviside(m)-1) - (1+m)/2 * sympy.log((1 + m)/2) - (1-m)/2 * sympy.log((1 - m)/2)\n",
    "phi"
   ]
  },
  {
   "cell_type": "code",
   "execution_count": 100,
   "id": "7deb0641",
   "metadata": {},
   "outputs": [
    {
     "data": {
      "text/latex": [
       "$\\displaystyle 2 J \\beta m - 2 \\alpha \\beta m^{2} \\delta\\left(m\\right) - 4 \\alpha \\beta m \\theta\\left(m\\right) + 2 \\alpha \\beta m + \\frac{\\log{\\left(1 - m \\right)}}{2} - \\frac{\\log{\\left(m + 1 \\right)}}{2}$"
      ],
      "text/plain": [
       "2*J*beta*m - 2*alpha*beta*m**2*DiracDelta(m) - 4*alpha*beta*m*Heaviside(m) + 2*alpha*beta*m + log(1 - m)/2 - log(m + 1)/2"
      ]
     },
     "execution_count": 100,
     "metadata": {},
     "output_type": "execute_result"
    }
   ],
   "source": [
    "phi_diff = sympy.diff(phi, m)\n",
    "phi_diff = sympy.simplify(phi_diff)\n",
    "phi_diff"
   ]
  },
  {
   "cell_type": "code",
   "execution_count": 101,
   "id": "01b1f350",
   "metadata": {},
   "outputs": [
    {
     "data": {
      "text/latex": [
       "$\\displaystyle 2 J \\beta m - 4 \\alpha \\beta m \\theta\\left(m\\right) + 4 \\alpha \\beta m - \\operatorname{atanh}{\\left(m \\right)}$"
      ],
      "text/plain": [
       "2*J*beta*m - 4*alpha*beta*m*Heaviside(m) + 4*alpha*beta*m - atanh(m)"
      ]
     },
     "execution_count": 101,
     "metadata": {},
     "output_type": "execute_result"
    }
   ],
   "source": [
    "# we recognize the arctanh and substitute it, also the factor with the dirac delta diappears\n",
    "\n",
    "phi_diff = 2*J*beta*m - 4*alpha*beta*m*Heaviside(m) +4*alpha*beta*m -sympy.atanh(m)\n",
    "phi_diff = sympy.simplify(phi_diff)\n",
    "phi_diff"
   ]
  },
  {
   "cell_type": "code",
   "execution_count": 102,
   "id": "23b80fd8",
   "metadata": {},
   "outputs": [
    {
     "data": {
      "text/plain": [
       "(m, tanh(2*beta*m*(J - 2*alpha*Heaviside(m) + 2*alpha)))"
      ]
     },
     "execution_count": 102,
     "metadata": {},
     "output_type": "execute_result"
    }
   ],
   "source": [
    "lhs = m\n",
    "rhs = sympy.simplify(sympy.tanh(phi_diff + sympy.atanh(m)))\n",
    "lhs, rhs"
   ]
  },
  {
   "cell_type": "code",
   "execution_count": 104,
   "id": "287252ef",
   "metadata": {},
   "outputs": [
    {
     "data": {
      "application/vnd.jupyter.widget-view+json": {
       "model_id": "93a9a8a03f5d4a71abde0abb1ec6334c",
       "version_major": 2,
       "version_minor": 0
      },
      "text/plain": [
       "interactive(children=(FloatSlider(value=-0.5, description='α:', max=5.0, min=-5.0, step=0.05), FloatSlider(val…"
      ]
     },
     "metadata": {},
     "output_type": "display_data"
    },
    {
     "data": {
      "text/plain": [
       "<function __main__.plot_lhs_rhs(alpha_value, beta_value, J_value)>"
      ]
     },
     "execution_count": 104,
     "metadata": {},
     "output_type": "execute_result"
    }
   ],
   "source": [
    "def plot_lhs_rhs(alpha_value, beta_value, J_value):\n",
    "    sympy.plot(lhs.subs([(beta, beta_value), (alpha, alpha_value), (J, J_value)]),\n",
    "               rhs.subs([(beta, beta_value), (alpha, alpha_value), (J, J_value)]),\n",
    "               show=True,\n",
    "               xlim = (-1.2, 1.2),\n",
    "               ylim = (-1.2, 1.2)\n",
    "               )\n",
    "    \n",
    "interact(plot_lhs_rhs,\n",
    "        alpha_value=FloatSlider(min=-5.0, max=5.0, step=0.05, value=-0.5, description='α:'),\n",
    "         beta_value=FloatSlider(min=0.1, max=5.0, step=0.05, value=2.0, description='β:'),\n",
    "         J_value=FloatSlider(min=0.1, max=2.0, step=0.1, value=1, description='J:')\n",
    ")"
   ]
  },
  {
   "cell_type": "code",
   "execution_count": null,
   "id": "b2d0ec45",
   "metadata": {},
   "outputs": [
    {
     "data": {
      "application/vnd.jupyter.widget-view+json": {
       "model_id": "4b15aff8338d4d1c953c185c4925b749",
       "version_major": 2,
       "version_minor": 0
      },
      "text/plain": [
       "interactive(children=(FloatSlider(value=-0.5, description='α:', max=5.0, min=-5.0, step=0.05), FloatSlider(val…"
      ]
     },
     "metadata": {},
     "output_type": "display_data"
    },
    {
     "data": {
      "text/plain": [
       "<function __main__.plot_free_energy(alpha_value, beta_value, J_value)>"
      ]
     },
     "execution_count": 105,
     "metadata": {},
     "output_type": "execute_result"
    }
   ],
   "source": [
    "def plot_free_energy(alpha_value, beta_value, J_value):\n",
    "    sympy.plot(phi.subs([(beta, beta_value), (alpha, alpha_value), (J, J_value)]))\n",
    "\n",
    "interact(plot_free_energy, \n",
    "         alpha_value=FloatSlider(min=-5.0, max=5.0, step=0.05, value=-0.5, description='α:'),\n",
    "         beta_value=FloatSlider(min=0.1, max=5.0, step=0.05, value=2.0, description='β:'),\n",
    "         J_value=FloatSlider(min=0.1, max=2.0, step=0.1, value=1, description='J:')\n",
    "        )"
   ]
  },
  {
   "cell_type": "markdown",
   "id": "8730a0f2",
   "metadata": {},
   "source": [
    "### Plots for the report:"
   ]
  },
  {
   "cell_type": "code",
   "execution_count": 106,
   "id": "40842680",
   "metadata": {},
   "outputs": [
    {
     "data": {
      "image/png": "[encoded data removed]",
      "text/plain": [
       "<Figure size 308.661x191.37 with 1 Axes>"
      ]
     },
     "metadata": {},
     "output_type": "display_data"
    }
   ],
   "source": [
    "beta_1 = 0.5\n",
    "beta_2 = 1.0\n",
    "beta_3 = 1.5\n",
    "J_val = 1\n",
    "alpha_val = 1\n",
    "\n",
    "eps = 1e-10\n",
    "m_vals = np.linspace(-1+eps, 1-eps, 1000)\n",
    "lam_phi = sympy.lambdify((beta, J, m, alpha), phi, 'numpy')\n",
    "\n",
    "phi_vals_1 = lam_phi(beta_1, J_val, m_vals, alpha_val)\n",
    "phi_vals_2 = lam_phi(beta_2, J_val, m_vals, alpha_val)\n",
    "phi_vals_3 = lam_phi(beta_3, J_val, m_vals, alpha_val)\n",
    "\n",
    "fig, ax = plt.subplots(1, 1, figsize=set_size(fraction=0.49))\n",
    "plt.plot(m_vals, phi_vals_1)\n",
    "plt.plot(m_vals, phi_vals_2)\n",
    "plt.plot(m_vals, phi_vals_3)\n",
    "plt.axvline(x=0, color='k', linestyle='-', alpha=0.3)\n",
    "plt.legend([r'$\\beta=0.5$', r'$\\beta=1.0$', r'$\\beta=1.5$'])\n",
    "plt.xlabel('m')\n",
    "plt.ylabel(r'$\\phi(m)$')\n",
    "plt.grid()\n",
    "plt.savefig(os.path.join(image_path, 'bornholdt_phi.pdf'), bbox_inches='tight')\n",
    "plt.show()"
   ]
  },
  {
   "cell_type": "code",
   "execution_count": 107,
   "id": "e6fddbbd",
   "metadata": {},
   "outputs": [
    {
     "data": {
      "image/png": "[encoded data removed]",
      "text/plain": [
       "<Figure size 308.661x191.37 with 1 Axes>"
      ]
     },
     "metadata": {},
     "output_type": "display_data"
    }
   ],
   "source": [
    "beta_1 = 0.5\n",
    "beta_2 = 1.0\n",
    "beta_3 = 1.5\n",
    "J_val = 1\n",
    "alpha_val = 1\n",
    "\n",
    "eps = 1e-10\n",
    "m_vals = np.linspace(-1+eps, 1-eps, 1000)\n",
    "lam_rhs = sympy.lambdify((beta, J, m, alpha), rhs, 'numpy')\n",
    "\n",
    "phi_vals_1 = lam_rhs(beta_1, J_val, m_vals, alpha_val)\n",
    "phi_vals_2 = lam_rhs(beta_2, J_val, m_vals, alpha_val)\n",
    "phi_vals_3 = lam_rhs(beta_3, J_val, m_vals, alpha_val)\n",
    "\n",
    "fig, ax = plt.subplots(1, 1, figsize=set_size(fraction=0.49))\n",
    "plt.plot(m_vals, m_vals, color='k', linestyle='--')\n",
    "plt.plot(m_vals, phi_vals_1)\n",
    "plt.plot(m_vals, phi_vals_2)\n",
    "plt.plot(m_vals, phi_vals_3)\n",
    "plt.legend([r'm', r'$\\beta=0.5$', r'$\\beta=1.0$', r'$\\beta=1.5$'])\n",
    "plt.xlabel('m')\n",
    "plt.ylabel(r'$\\phi(m)$')\n",
    "plt.grid()\n",
    "plt.axhline(y=0, color='k', linestyle='-', alpha=0.3)\n",
    "plt.axvline(x=0, color='k', linestyle='-', alpha=0.3)\n",
    "plt.savefig(os.path.join(image_path, 'bornholdt_rhs_lhs.pdf'), bbox_inches='tight')\n",
    "plt.show()"
   ]
  }
 ],
 "metadata": {
  "kernelspec": {
   "display_name": "thesis",
   "language": "python",
   "name": "python3"
  },
  "language_info": {
   "codemirror_mode": {
    "name": "ipython",
    "version": 3
   },
   "file_extension": ".py",
   "mimetype": "text/x-python",
   "name": "python",
   "nbconvert_exporter": "python",
   "pygments_lexer": "ipython3",
   "version": "3.13.1"
  }
 },
 "nbformat": 4,
 "nbformat_minor": 5
}
