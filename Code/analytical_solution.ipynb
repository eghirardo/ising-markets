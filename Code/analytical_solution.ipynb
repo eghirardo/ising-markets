{
 "cells": [
  {
   "cell_type": "code",
   "execution_count": 64,
   "id": "490ebf60",
   "metadata": {},
   "outputs": [],
   "source": [
    "from sympy import symbols\n",
    "import sympy\n",
    "from sympy import Heaviside, DiracDelta\n",
    "from ipywidgets import interact, FloatSlider\n",
    "import numpy as np\n",
    "import matplotlib.pyplot as plt\n",
    "from matplotlib.pyplot import figure"
   ]
  },
  {
   "cell_type": "code",
   "execution_count": 65,
   "id": "6cc4d110",
   "metadata": {},
   "outputs": [],
   "source": [
    "alpha, beta, J, m = symbols('alpha beta J m')"
   ]
  },
  {
   "cell_type": "code",
   "execution_count": 66,
   "id": "7d52153b",
   "metadata": {},
   "outputs": [
    {
     "data": {
      "text/latex": [
       "$\\displaystyle J \\beta m^{2} - \\alpha \\beta m^{2} \\left(2 \\theta\\left(m\\right) - 1\\right) - \\left(\\frac{1}{2} - \\frac{m}{2}\\right) \\log{\\left(\\frac{1}{2} - \\frac{m}{2} \\right)} - \\left(\\frac{m}{2} + \\frac{1}{2}\\right) \\log{\\left(\\frac{m}{2} + \\frac{1}{2} \\right)}$"
      ],
      "text/plain": [
       "J*beta*m**2 - alpha*beta*m**2*(2*Heaviside(m) - 1) - (1/2 - m/2)*log(1/2 - m/2) - (m/2 + 1/2)*log(m/2 + 1/2)"
      ]
     },
     "execution_count": 66,
     "metadata": {},
     "output_type": "execute_result"
    }
   ],
   "source": [
    "phi = beta * J * m**2 - beta*alpha*(m**2)*(2*Heaviside(m)-1) - (1+m)/2 * sympy.log((1 + m)/2) - (1-m)/2 * sympy.log((1 - m)/2)\n",
    "phi"
   ]
  },
  {
   "cell_type": "code",
   "execution_count": 67,
   "id": "7deb0641",
   "metadata": {},
   "outputs": [
    {
     "data": {
      "text/latex": [
       "$\\displaystyle 2 J \\beta m - 2 \\alpha \\beta m^{2} \\delta\\left(m\\right) - 4 \\alpha \\beta m \\theta\\left(m\\right) + 2 \\alpha \\beta m + \\frac{\\log{\\left(1 - m \\right)}}{2} - \\frac{\\log{\\left(m + 1 \\right)}}{2}$"
      ],
      "text/plain": [
       "2*J*beta*m - 2*alpha*beta*m**2*DiracDelta(m) - 4*alpha*beta*m*Heaviside(m) + 2*alpha*beta*m + log(1 - m)/2 - log(m + 1)/2"
      ]
     },
     "execution_count": 67,
     "metadata": {},
     "output_type": "execute_result"
    }
   ],
   "source": [
    "phi_diff = sympy.diff(phi, m)\n",
    "phi_diff = sympy.simplify(phi_diff)\n",
    "phi_diff"
   ]
  },
  {
   "cell_type": "code",
   "execution_count": 68,
   "id": "01b1f350",
   "metadata": {},
   "outputs": [
    {
     "data": {
      "text/latex": [
       "$\\displaystyle 2 J \\beta m - 4 \\alpha \\beta m \\theta\\left(m\\right) + 4 \\alpha \\beta m - \\operatorname{atanh}{\\left(m \\right)}$"
      ],
      "text/plain": [
       "2*J*beta*m - 4*alpha*beta*m*Heaviside(m) + 4*alpha*beta*m - atanh(m)"
      ]
     },
     "execution_count": 68,
     "metadata": {},
     "output_type": "execute_result"
    }
   ],
   "source": [
    "# we recognize the arctanh and substitute it, also the factor with the dirac delta diappears\n",
    "\n",
    "phi_diff = 2*J*beta*m - 4*alpha*beta*m*Heaviside(m) +4*alpha*beta*m -sympy.atanh(m)\n",
    "phi_diff = sympy.simplify(phi_diff)\n",
    "phi_diff"
   ]
  },
  {
   "cell_type": "code",
   "execution_count": 69,
   "id": "23b80fd8",
   "metadata": {},
   "outputs": [
    {
     "data": {
      "text/plain": [
       "(tanh(2*beta*m*(J - 2*alpha*Heaviside(m) + 2*alpha)), m)"
      ]
     },
     "execution_count": 69,
     "metadata": {},
     "output_type": "execute_result"
    }
   ],
   "source": [
    "lhs = sympy.simplify(sympy.tanh(phi_diff + sympy.atanh(m)))\n",
    "rhs = m\n",
    "lhs, rhs"
   ]
  },
  {
   "cell_type": "code",
   "execution_count": null,
   "id": "287252ef",
   "metadata": {},
   "outputs": [
    {
     "data": {
      "application/vnd.jupyter.widget-view+json": {
       "model_id": "f7a17a232c61413aa7d7b5322a9ec7c3",
       "version_major": 2,
       "version_minor": 0
      },
      "text/plain": [
       "interactive(children=(FloatSlider(value=-0.5, description='α:', max=5.0, min=-5.0, step=0.05), FloatSlider(val…"
      ]
     },
     "metadata": {},
     "output_type": "display_data"
    },
    {
     "data": {
      "text/plain": [
       "<function __main__.plot_lhs_rhs(alpha_value, beta_value, J_value)>"
      ]
     },
     "execution_count": 70,
     "metadata": {},
     "output_type": "execute_result"
    }
   ],
   "source": [
    "def plot_lhs_rhs(alpha_value, beta_value, J_value):\n",
    "    sympy.plot(lhs.subs([(beta, beta_value), (alpha, alpha_value), (J, J_value)]),\n",
    "               rhs.subs([(beta, beta_value), (alpha, alpha_value), (J, J_value)]),\n",
    "               show=True,\n",
    "               xlim = (-1.2, 1.2),\n",
    "               ylim = (-1.2, 1.2)\n",
    "               )\n",
    "    \n",
    "interact(plot_lhs_rhs,\n",
    "        alpha_value=FloatSlider(min=-5.0, max=5.0, step=0.05, value=-0.5, description='α:'),\n",
    "         beta_value=FloatSlider(min=0.1, max=5.0, step=0.05, value=2.0, description='β:'),\n",
    "         J_value=FloatSlider(min=0.1, max=2.0, step=0.1, value=1, description='J:')\n",
    ")"
   ]
  },
  {
   "cell_type": "code",
   "execution_count": 71,
   "id": "b2d0ec45",
   "metadata": {},
   "outputs": [
    {
     "data": {
      "application/vnd.jupyter.widget-view+json": {
       "model_id": "0888ba623a4b4373be6195c9a8e9d483",
       "version_major": 2,
       "version_minor": 0
      },
      "text/plain": [
       "interactive(children=(FloatSlider(value=-0.5, description='α:', max=5.0, min=-5.0, step=0.05), FloatSlider(val…"
      ]
     },
     "metadata": {},
     "output_type": "display_data"
    },
    {
     "data": {
      "text/plain": [
       "<function __main__.plot_free_energy(alpha_value, beta_value, J_value)>"
      ]
     },
     "execution_count": 71,
     "metadata": {},
     "output_type": "execute_result"
    }
   ],
   "source": [
    "def plot_free_energy(alpha_value, beta_value, J_value):\n",
    "    sympy.plot(phi.subs([(beta, beta_value), (alpha, alpha_value), (J, J_value)]))\n",
    "\n",
    "interact(plot_free_energy, \n",
    "         alpha_value=FloatSlider(min=-5.0, max=5.0, step=0.05, value=-0.5, description='α:'),\n",
    "         beta_value=FloatSlider(min=0.1, max=5.0, step=0.05, value=2.0, description='β:'),\n",
    "         J_value=FloatSlider(min=0.1, max=2.0, step=0.1, value=1, description='J:')\n",
    "        )"
   ]
  }
 ],
 "metadata": {
  "kernelspec": {
   "display_name": "thesis",
   "language": "python",
   "name": "python3"
  },
  "language_info": {
   "codemirror_mode": {
    "name": "ipython",
    "version": 3
   },
   "file_extension": ".py",
   "mimetype": "text/x-python",
   "name": "python",
   "nbconvert_exporter": "python",
   "pygments_lexer": "ipython3",
   "version": "3.13.1"
  }
 },
 "nbformat": 4,
 "nbformat_minor": 5
}
